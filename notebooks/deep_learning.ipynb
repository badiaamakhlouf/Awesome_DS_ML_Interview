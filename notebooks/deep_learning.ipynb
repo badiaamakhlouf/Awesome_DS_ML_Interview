{
 "cells": [
  {
   "cell_type": "markdown",
   "id": "9f1f9086",
   "metadata": {},
   "source": [
    "### What Is a Multi-layer Perceptron(MLP)?\n",
    "\n",
    "\n",
    "### What of data processing we must perform in NN?\n",
    "### What Is Data Normalization, and Why Do We Need It?\n",
    "### What is Activation Functions  and how it is used in NN?\n",
    "### What Is the Cost Function? \n",
    "### How to mitigate overfitting in NN?\n",
    "### What Is Gradient Descent?\n",
    "### What Is the Difference Between Batch Gradient Descent and Stochastic Gradient Descent?\n",
    "### What are the reasons for mini-batch gradient being so useful?\n",
    "### What is Keras and what it is used for ?\n",
    "### What is Tensorflow and what it is used for?\n",
    "### Why is Tensorflow the Most Preferred Library in Deep Learning?\n",
    "### What Do You Mean by Tensor in Tensorflow?\n",
    "### What Are the Programming Elements in Tensorflow?\n",
    "- Constants\n",
    "- Variables\n",
    "- Sessions\n",
    "- Placeholders\n",
    "### What is the difference between SAME and VALID padding in Tensorflow?\n",
    "### What  Do You Understand by Backpropagation?\n",
    "### What Is the Difference Between a Feedforward Neural Network and Recurrent Neural Network?\n",
    "### What Are the Applications of a Recurrent Neural Network (RNN)?\n",
    "### What Are the Softmax and ReLU Functions?\n",
    "### What Are Hyperparameters and parameters of NN?\n",
    "### What is the Learning rate in NN ?\n",
    "### How to choose the optimal value for Learning rate ?\n",
    "if it is Set Too Low or Too High? \n",
    "### What Is Dropout and Batch Normalization?\n",
    "### What is Overfitting and Underfitting, and How to Combat Them?\n",
    "### What are weights and how are Weights Initialized in a Network?\n",
    "### What are the Different Layers on CNN?\n",
    "### What is Pooling on CNN, and How Does It Work?\n",
    "### What is LSTM Network and how it Work?\n",
    "### What is Vanishing Gradient?\n",
    "### Explain two ways to deal with the vanishing gradient problem in a deep neural network.\n",
    "### What is Exploding Gradient?\n",
    "### What Is the Difference Between Epoch, Batch, and Iteration in Deep Learning?\n",
    "### Explain a Computational Graph.\n",
    "### Explain Generative Adversarial Network.\n",
    "### What Is an Auto-encoder?\n",
    "### What are some of the uses of Autoencoders in Deep Learning?\n",
    "### Can we use bagging and boosting with \n",
    "### What is the significance of using the Fourier transform in Deep Learning tasks?\n",
    "### What do you understand by transfer learning? Name a few commonly used transfer learning models.\n",
    "Some of the popular transfer learning models are:\n",
    "- VGG-16\n",
    "- BERT\n",
    "- GTP-3\n",
    "- Inception V3\n",
    "- XCeption\n",
    "### What is the Swish Function?\n",
    "### What do you understand by Leaky ReLU activation function?\n",
    "### What is Data Augmentation in Deep Learning?\n",
    "### Explain the Adam optimization algorithm.\n",
    "### Why is a convolutional neural network preferred over a dense neural network for an image classification task?\n",
    "### Which strategy that does prevent a model from overfitting to the training data?\n",
    "- Dropout\n",
    "- Data augmentation\n",
    "- Early stopping\n",
    "### Why is a deep neural network better than a shallow neural network?\n",
    "### What is the need to add randomness in the weight initialization process?\n",
    "### How can you train hyperparameters in a neural network?\n",
    "\n"
   ]
  },
  {
   "cell_type": "code",
   "execution_count": 6,
   "id": "0cae45fc",
   "metadata": {},
   "outputs": [
    {
     "data": {
      "text/plain": [
       "[4, 5, 7.5]"
      ]
     },
     "execution_count": 6,
     "metadata": {},
     "output_type": "execute_result"
    }
   ],
   "source": []
  },
  {
   "cell_type": "code",
   "execution_count": null,
   "id": "ec1b2484",
   "metadata": {},
   "outputs": [],
   "source": []
  },
  {
   "cell_type": "code",
   "execution_count": null,
   "id": "eb4480b2",
   "metadata": {},
   "outputs": [],
   "source": []
  },
  {
   "cell_type": "code",
   "execution_count": null,
   "id": "5e0ede31",
   "metadata": {},
   "outputs": [],
   "source": []
  },
  {
   "cell_type": "code",
   "execution_count": null,
   "id": "3bcf0172",
   "metadata": {},
   "outputs": [],
   "source": []
  },
  {
   "cell_type": "code",
   "execution_count": null,
   "id": "60f6ced7",
   "metadata": {},
   "outputs": [],
   "source": []
  },
  {
   "cell_type": "code",
   "execution_count": null,
   "id": "27617341",
   "metadata": {},
   "outputs": [],
   "source": []
  }
 ],
 "metadata": {
  "kernelspec": {
   "display_name": "Python 3 (ipykernel)",
   "language": "python",
   "name": "python3"
  },
  "language_info": {
   "codemirror_mode": {
    "name": "ipython",
    "version": 3
   },
   "file_extension": ".py",
   "mimetype": "text/x-python",
   "name": "python",
   "nbconvert_exporter": "python",
   "pygments_lexer": "ipython3",
   "version": "3.9.7"
  }
 },
 "nbformat": 4,
 "nbformat_minor": 5
}
