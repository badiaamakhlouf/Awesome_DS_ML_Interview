{
 "cells": [
  {
   "cell_type": "markdown",
   "id": "b218690e",
   "metadata": {},
   "source": [
    "# Data Scientist Interview Questions\n",
    "## Part 4 : ML : Regression Analysis\n",
    "\n",
    "This Jupyter notebook serves as a comprehensive resource for machine learning enthusiasts and those preparing for technical interviews in the fields of data science and machine learning. It encompasses essential information and detailed insights regarding regression analysis.\n",
    "\n",
    "Whether strengthening foundational knowledge or delving into specific regression concepts, this notebook provides a concise yet thorough guide. For those aspiring to excel in data science interviews, exploring this resource offers a valuable edge in understanding regression analysis within the machine learning domain."
   ]
  },
  {
   "cell_type": "markdown",
   "id": "20d52f4d",
   "metadata": {},
   "source": [
    "### Q0- What does regression analysis mean?\n",
    "\n",
    "- It is a statistical technique used in data science and machine learning fields. \n",
    "- It aims to model the relationship between a dependent variable and one or more independent variables.\n",
    "- By modeling the relationship between inputs and output, it is easy to understand the nature and strength of the relationship and to make predictions based on that understanding.\n",
    "\n",
    "- Mainly, we use regression analysis to resolve problems and answer questions such as:\n",
    "    - How does a change in one variable (independent variable) impact another variable (dependent variable)?\n",
    "    - Can we predict the value of the dependent variable based on the values of one or more independent variables?\n",
    "- It is widely used in various fields, including economics, finance, biology, psychology, and machine learning.\n",
    " "
   ]
  },
  {
   "cell_type": "markdown",
   "id": "302d59ba",
   "metadata": {},
   "source": [
    "### Q1- Examples of well-known machine learning algorithms used to solve regression problems\n",
    "\n",
    "Here are some well-known machine learning algorithms commonly used to solve regression problems:\n",
    "\n",
    "- Linear Regression\n",
    "- Decision Trees\n",
    "- Bayesian Regression\n",
    "- Lasso Regression\n",
    "- Ridge Regression\n",
    "- Support Vector Machines (SVM)\n",
    "- K-Nearest Neighbors (KNN)\n",
    "- Random Forest\n",
    "- Gradient Boosting Algorithms (e.g., XGBoost, LightGBM)\n",
    "- Neural Networks (Deep Learning)"
   ]
  },
  {
   "cell_type": "markdown",
   "id": "1509c15d",
   "metadata": {},
   "source": [
    "### Q2- What is linear regression, and how does it work?\n",
    "\n",
    "- It is the easiest and one of the most popular Machine Learning algorithms for predictive analysis\n",
    "- LR, is a statistical method to model the relationship between a dependent variable (target) and one or more independent variables (inputs).\n",
    "- Called \"linear\" because we assume the existence of linear relationship between previous variables.\n",
    "- It aims to predict continuous/real or numeric variables such as temperature, salary, quantity, price etc. using the remaining features\n",
    "- It can be classified into two main types : \n",
    "    - Simple Linear Regression : to model relationship between an independent variable (x) and a dependent variable (y).\n",
    "    - Multiple Linear Regression : involves using more than one independent variable (X) to model the relationship with the dependent variable (y).\n",
    "- It can be used for both continuous and categorical dependent variables (y) and can handle multiple independent variables. \n",
    "    \n",
    " "
   ]
  },
  {
   "cell_type": "markdown",
   "id": "eee10ffd",
   "metadata": {},
   "source": [
    "### Q3- How Simple Linear Regression works? \n",
    "\n",
    "- It is used to model relationship between an independent variable (x) and a dependent variable (y).\n",
    "- Example: Predicting the price of a house based on its size.\n",
    "<img src=\"images/lin_reg.png\" width=\"300\">   \n",
    "\n",
    "- The line of regression, is a line of best fit is plotted on a scatter plot of the data points as it is shown in the Figure below\n",
    "- The equation of this line is : $$y=w \\times x + b$$\n",
    "\n",
    "    - Where : \n",
    "        - y: dependent/response/target variable, we want to predict it or explain it.\n",
    "        - x: independent/input/predictor variable(s), it is (they are) used to predict or explain the variability of y\n",
    "        - w: regression coefficients: the parameters in the regression equation that indicate the strength and direction of the relationship between variables.\n",
    "        - b:bias term which represents patterns that do not pass through the origin\n",
    "        \n",
    "- The line is determined by finding the values of the slope (w) and intercept (b) that minimize the sum of residuals.\n",
    "- Residuals: \n",
    "    - Corresponds to the prediction error which is differences between the observed (y) and predicted values ($\\hat y$), .\n",
    "    - Formula : $e=y-\\hat y$\n",
    "    - We calculate the Sum\n",
    "- Our main goal is to find the best fit line where the error between predicted values and actual values should be minimized.\n",
    "\n",
    "*Source:https://www.javatpoint.com/linear-regression-in-machine-learning\n",
    "\n",
    "### Q4- How Multiple Linear Regression works? \n",
    "- The unique difference between Simple and Multiple Linear Regression lies in the number of independent variables used in the regression model.\n",
    "- We have multiple independent variables $x_1, x_2, ..., x_n$\n",
    "- New equation: $y=b_0+b_1 x_1 + b_2x_2+ ...+b_n x_n$\n",
    "- Where $b_0$ represents the intercept, and $b_1, b_2, ..., b_n$ represent the coefficients of the independent variables.\n",
    "- Simple linear regression involves one independent variable, while multiple linear regression involves two or more independent variables.\n",
    "- Example: Predicting the performance of a student based on their age, gender, IQ, etc."
   ]
  },
  {
   "cell_type": "markdown",
   "id": "e0ad929e",
   "metadata": {},
   "source": [
    "### Q5-  What assumptions should you consider before starting a linear regression analysis?\n",
    "\n",
    "Here are some important assumptions of Linear Regression: \n",
    "\n",
    "- Linear relationship between the independent and dependent variables.\n",
    "- No or little multicolinearity between the features: independent variables are not correlated with each other\n",
    "- Normal distribution of error terms: residuals (errors), are normally distributed with a mean of zero and a constant variance.\n",
    "- The residuals are independent of each other, no autocorrelations in error terms\n",
    "- The model includes all the relevant independent variables needed to accurately predict the dependent variable.\n",
    "- Homoscedasticity Assumption: it is a situation when the error term is the same for all the values of independent variables. With homoscedasticity, there should be no clear pattern distribution of data in the scatter plot\n",
    "\n",
    "**Note:**\n",
    "- Multicollinearity involves high-correlation between the independent variables.\n",
    "- In this situation, it become difficult to find the true relationship between the predictors and target variables.\n",
    "- More precisely, it is challenging to point which predictor variable has the major influence on the target variable. "
   ]
  },
  {
   "cell_type": "markdown",
   "id": "a9b80858",
   "metadata": {},
   "source": [
    "### Q6- What are the performance metrics for Regression Analysis? \n",
    "- Several performance metrics are commonly used to evaluate the accuracy and goodness of fit of regression models.\n",
    "- Here are some common performance metrics for regression:\n",
    "    - **Mean Absolute Error (MAE)**\n",
    "    - **Mean Squared Error (MSE)**\n",
    "    - **Root Mean Squared Error (RMSE)**\n",
    "    - **Mean Absolute Percentage Error (MAPE)**\n",
    "    - **R-squared (R2)**\n",
    "- The choice of metric is related to several goals and characteristics of the regression problem to solve.\n",
    "- It is possible to use one of the above metrics next to accuracy, precision, and the ability to explain variance.\n",
    "- Considering multiple metrics is better solution to gain a comprehensive understanding about the model performance.\n",
    "- Almost, all regression tasks uses error to evaluate the model: if error is high ==> we need either to change the model or retrain it with more data.\n",
    "\n",
    "### Q7- What is Mean Absolute Error (MAE) ? \n",
    "\n",
    "- As its name indicates, it represents the average absolute difference between the predicted values and the actual values.\n",
    "- **Formula :** $$MAE = {1\\over n} {\\sum \\limits _{i=1} ^{n}|y_{i}-\\hat{y}_{i}|}$$\n",
    "\n",
    "### Q8- What is Mean Squared Error (MSE) ?\n",
    "- It represents the average squared difference between the predicted values and the actual values.\n",
    "- It penalizes larger errors more heavily than MAE.\n",
    "- **Formula:** $$MSE = {1\\over n} {\\sum \\limits _{i=1} ^{n}(y_{i}-\\hat{y}_{i})^2}$$ \n",
    "\n",
    "### Q9- What is Root Mean Squared Error (RMSE) ? \n",
    "- It represents the square root of the MSE\n",
    "- It provides a measure of the average magnitude of errors in the same units as the target variable.\n",
    "- **Formula:** $$RMSE= {\\sqrt MSE} $$"
   ]
  },
  {
   "cell_type": "markdown",
   "id": "aa47e29e",
   "metadata": {},
   "source": [
    "### Q10- What is Mean Absolute Percentage Error (MAPE) ? \n",
    "- It calculates the average percentage difference between the predicted and actual values.\n",
    "- It is a relative error metric\n",
    "- **Formula:** $$MAPE={1\\over n} {\\sum \\limits _{i=1} ^{n}({|y_{i}-\\hat{y}_{i}| \\over |y_{i}|})} \\times 100$$\n",
    "### Q11- What is R-squared (R2)\n",
    "- It measures the proportion of the variance in the target variable that is predictable from the independent variables.\n",
    "- It represents the correlation between true value and predicted value\n",
    "- **Formula:** $$ R^2= 1 - {MSE \\over Var(y) }= 1- {{\\sum \\limits _{i=1} ^{n}(y_{i}-\\hat{y}_{i})^2} \\over {\\sum \\limits _{i=1} ^{n}(y_{i}-\\overline{y})^2}}$$\n",
    "- $\\overline{y}$: is the mean of the target variable\n",
    "- It is possible to use **Adjusted R-squared**, which provides a penalized version of R-squared that adjusts the model complexity\n"
   ]
  },
  {
   "cell_type": "code",
   "execution_count": null,
   "id": "83f343e1",
   "metadata": {},
   "outputs": [],
   "source": []
  },
  {
   "cell_type": "markdown",
   "id": "92130ed8",
   "metadata": {},
   "source": [
    "## 4- How Decision Trees are used for Regression analysis ?\n",
    "### What does decision tree means ? \n",
    "- Decision tree can be used for :\n",
    "    - Classification\n",
    "    - Regression \n",
    "- We build a tree with datasets broken up into smaller subsets while developing the decision tree\n",
    "- It can handle both categorical and numerical data \n",
    "\n",
    "### What does prunning decision tree means?\n",
    "- Pruning is a technique in ML that reduces the size of DT ==> to reduce the complexity of final classifier \n",
    "- Pruning helps improve the predictive accuracy by reducing overfitting \n",
    "- Pruning can occur in :\n",
    "    - Top-down fashion \n",
    "    - Bottom-down fashion\n",
    "- Top-down fashion : it will traverse nodes and train subsets starting at the root\n",
    "- Bottom-up fashion : it will begin at the leaf nodes \n",
    "### What are the popular pruning algorithms?\n",
    "- Reduced error pruning :\n",
    "    - starts with leaves, each node is replaced with its most popular class\n",
    "    - if the prediction accuracy is not affected the change is kept \n",
    "    - There is an advantage of simplicity and speed \n",
    "### What are the different menthods to split a tree in decision tree method?\n",
    "Here is the list of methods :\n",
    "- Variance :\n",
    "    - Splitting using the variance\n",
    "    - Prefered when the target variable is continous\n",
    "    - Variance is ......\n",
    "- Information gain :\n",
    "    - Splitting the nodes using information gain\n",
    "    - Prefered when the target variable is categorical\n",
    "    - Formula : IG=1- Entropy \n",
    "    - $Entropy =-{\\sum p_{i} log_{2}p_{i}}$\n",
    "- Gini Impurity :\n",
    "    - Splitting the nodes of a decision tree using Gini impurity \n",
    "    - Prefered When the target variable is categorical\n",
    "    "
   ]
  },
  {
   "cell_type": "markdown",
   "id": "5daf3a36",
   "metadata": {},
   "source": [
    "## 5- What does Random Forest mean and how it works?"
   ]
  },
  {
   "cell_type": "markdown",
   "id": "a104b2db",
   "metadata": {},
   "source": [
    "## 6- What does Bayesian Regression mean and how it works?"
   ]
  },
  {
   "cell_type": "markdown",
   "id": "1d68d498",
   "metadata": {},
   "source": [
    "## 7- How Gradient Boosting Algorithms (e.g., XGBoost, LightGBM) are used to resolve regression problem?"
   ]
  },
  {
   "cell_type": "markdown",
   "id": "7353f543",
   "metadata": {},
   "source": [
    "## 8- How can we use Neural Network to resolve regression problem?"
   ]
  },
  {
   "cell_type": "markdown",
   "id": "44b2b4a0",
   "metadata": {},
   "source": [
    "## 9- How determine whether a predictive model is underfitting or overfitting the training data?"
   ]
  },
  {
   "cell_type": "markdown",
   "id": "da5753a5",
   "metadata": {},
   "source": [
    "## 10-What is Lasso Regression and how it works?"
   ]
  },
  {
   "cell_type": "markdown",
   "id": "61cdcc46",
   "metadata": {},
   "source": [
    "## 11- What is Ridge Regression and how it works?"
   ]
  }
 ],
 "metadata": {
  "kernelspec": {
   "display_name": "Python 3 (ipykernel)",
   "language": "python",
   "name": "python3"
  },
  "language_info": {
   "codemirror_mode": {
    "name": "ipython",
    "version": 3
   },
   "file_extension": ".py",
   "mimetype": "text/x-python",
   "name": "python",
   "nbconvert_exporter": "python",
   "pygments_lexer": "ipython3",
   "version": "3.9.17"
  }
 },
 "nbformat": 4,
 "nbformat_minor": 5
}
