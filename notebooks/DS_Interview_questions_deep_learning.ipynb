{
 "cells": [
  {
   "cell_type": "markdown",
   "id": "ab4efa36",
   "metadata": {},
   "source": [
    "# Data Scientist Interview Questions\n",
    "## Part 3 : Deep Learning and Neural Network\n",
    "This Jupyter notebook is a valuable resource for technical interviews on deep learning and neural networks. It consolidates essential questions, offering a comprehensive study tool. Whether reinforcing foundational knowledge or preparing for an interview, it covers key principles and project-related inquiries for success."
   ]
  },
  {
   "cell_type": "markdown",
   "id": "dc69763e",
   "metadata": {},
   "source": [
    "## List of Questions\n",
    "## Part 1: Deep Learning and Neural Networks\n",
    "### 0 -What is Deep Learning?\n",
    "\n",
    "- It is a subset of machine learning that involves training artificial neural networks with multiple layers (deep neural networks). \n",
    "- It is used to model complex patterns and representations.\n",
    "- DL models are trained using large amounts of data.\n",
    "- The term \"deep\" refers to the depth of the neural network, which consists of multiple hidden layers through which data is processed.\n",
    "- It eliminates the need for manual feature engineering by automatically learning hierarchical representations from raw data during the training process.\n",
    "\n",
    "    \n",
    "### 1- What are some real-life applications of deep learning algorithms?\n",
    "- DL is used in various real-life scenarios across different fields.\n",
    "- Here are some common applications for DL:\n",
    "    - **Computer Vision:** object detection, image classification, facial recognition, and autonomous driving\n",
    "    - **Natural Language Processing (NLP):** translation, chatbots, sentiment analysis etc.\n",
    "    - **Healthcare:** medical image analysis, disease diagnosis, personalized treatment etc.\n",
    "    - **Finance:** fraud detection, credit scoring, customer service automation etc. \n",
    "    - **Recommendation Systems:** for e-commerce, social media and advertising etc.\n",
    "    - **Robotics**\n",
    "    - **Autonomous Vehicles**\n",
    "    - **Manufacturing:** such as predictive maintenance, process optimisation, quality control\n",
    "\n",
    "### 2- What are the common types of deep learning ?\n",
    "- Artificial Neural Network (ANN)\n",
    "- Convolutional Neural Networks (CNNs):\n",
    "- Recurrent Neural Networks (RNNs)\n",
    "- Autoencoders\n",
    "- Transformers\n",
    "- Generative Adversarial Networks (GANs)\n",
    "- Graph Neural Networks (GNNs)"
   ]
  },
  {
   "cell_type": "markdown",
   "id": "12417773",
   "metadata": {},
   "source": [
    "###  3- What is neural network?\n",
    "- A neural network is a computational model which, has the same operational structure like the way biological neural networks in the human brain works.\n",
    "- Neural networks are designed to recognize patterns, perform tasks, and make decisions by learning from data.\n",
    "- It is an important component of deep learning and artificial intelligence.\n",
    "- Here are the characteristics and components of neural networks:\n",
    "    - Neurons\n",
    "    - Layers\n",
    "    - Connections (Weights)\n",
    "    - Activation Function\n",
    "    - Feedforward and Backpropagation\n",
    "    - Learning\n",
    "    \n",
    "<div>\n",
    "<img src=\"images/neuralnet2.png\" width=\"500\"/>\n",
    "</div>\n",
    "\n",
    "*source : https://medium.com/@parekhdhruvish1331/getting-into-deep-learning-c6b270e43055\n",
    "\n",
    "### 4- What does Neurons mean in NN?\n",
    "- The artificial neurons are nodes or units that are considered as basic building blocks of a neural network.\n",
    "- They are inspired by the neurons in the human brain.\n",
    "\n",
    "### 5- What are the main Layers of NN?\n",
    "- Each subset of neurons belongs to a layer. \n",
    "- Three main types of layers are existing:\n",
    "    - **Input Layer:** Receives the initial input data.\n",
    "    - **Hidden Layers:** Intermediate layers that process the input and generate output.\n",
    "    - **Output Layer:** Produces the final output or prediction.\n",
    "<div>\n",
    "<img src=\"images/neural_network.png\" width=\"400\"/>\n",
    "</div>"
   ]
  },
  {
   "cell_type": "markdown",
   "id": "7e767072",
   "metadata": {},
   "source": [
    "### 6- What does Connections (Weights) mean in NN?\n",
    "- Neural networks learn from data through the adjustment of weights during training.\n",
    "- The learning process enables the network to recognize patterns, generalize from examples, and make predictions on new, unseen data.\n",
    "\n",
    "### 7- What are the various activation functions used in NN?\n",
    "- Each neuron has an activation function that determines its output based on the weighted sum of its inputs.\n",
    "- Common activation functions:\n",
    "    - Sigmoid\n",
    "    - Hyperbolic tangent (tanh)\n",
    "    - Rectified linear unit (ReLU).\n",
    "    \n",
    "<div>\n",
    "<img src=\"images/neural1.png\" width=\"500\"/>\n",
    "</div>\n",
    "\n"
   ]
  },
  {
   "cell_type": "markdown",
   "id": "5b1d2939",
   "metadata": {},
   "source": [
    "\n",
    "\n",
    "### What Is a Multi-layer Perceptron(MLP)?\n",
    "### What is Tensorflow and what it is used for?\n",
    "\n",
    "### What is Keras and what it is used for ?"
   ]
  },
  {
   "cell_type": "markdown",
   "id": "b3f2b407",
   "metadata": {},
   "source": [
    "### What is Keras ? \n",
    "### what is Tensorflow\n",
    "### what is Pytorch\n",
    "\n",
    "#### Tensorflow versus Pytorch \n",
    "- tensorflow :\n",
    "    - Based on theano library\n",
    "    - By Google\n",
    "    - Has no option at runtime\n",
    "    - Has Tensorboard for visualizing ml models\n",
    "- Pytorch :\n",
    "    - Based on Torch library\n",
    "    - Facebook/ Meta\n",
    "    - Visualization features are existing\n"
   ]
  },
  {
   "cell_type": "markdown",
   "id": "53ebff1e",
   "metadata": {},
   "source": [
    "\n",
    "### What Kind of data processing we must perform in NN?\n",
    "### What Is Data Normalization, and Why Do We Need It?\n",
    "### What is Activation Functions  and how it is used in NN?\n",
    "### What Is the Cost Function? "
   ]
  },
  {
   "cell_type": "markdown",
   "id": "2e93efb6",
   "metadata": {},
   "source": [
    "\n",
    "\n",
    "\n",
    "### Why is Tensorflow the Most Preferred Library in Deep Learning?\n",
    "### What Do You Mean by Tensor in Tensorflow?\n",
    "### What Are the Programming Elements in Tensorflow?\n",
    "- Constants\n",
    "- Variables\n",
    "- Sessions\n",
    "- Placeholders\n",
    "\n",
    "### What is the difference between SAME and VALID padding in Tensorflow?\n",
    "### What  Do You Understand by Backpropagation?\n",
    "### What Is the Difference Between Epoch, Batch, and Iteration in Deep Learning?\n"
   ]
  },
  {
   "cell_type": "markdown",
   "id": "82346051",
   "metadata": {},
   "source": [
    "\n",
    "### What Are the Softmax and ReLU Functions?\n",
    "### What is the Swish Function?\n",
    "### What Are Hyperparameters and parameters of NN?\n",
    "### What is the Learning rate in NN ?\n",
    "### How to choose the optimal value for Learning rate ?\n",
    "if it is Set Too Low or Too High? \n",
    "### What is epoch ?\n",
    "- Describes the number of times the algorithm sees the entire dataset.\n",
    "### What do you understand by Leaky ReLU activation function?\n"
   ]
  },
  {
   "cell_type": "markdown",
   "id": "231078dc",
   "metadata": {},
   "source": [
    "### What Is an Auto-encoder?\n",
    "### What are some of the uses of Autoencoders in Deep Learning?\n",
    "### Why is a deep neural network better than a shallow neural network?\n",
    "### What is the significance of using the Fourier transform in Deep Learning tasks?\n"
   ]
  },
  {
   "cell_type": "markdown",
   "id": "7257a069",
   "metadata": {},
   "source": []
  },
  {
   "cell_type": "markdown",
   "id": "390b8578",
   "metadata": {},
   "source": [
    "## Part 2: Model training and Evaluation"
   ]
  },
  {
   "cell_type": "markdown",
   "id": "2815bcd3",
   "metadata": {},
   "source": [
    "### Explain the Adam optimization algorithm.\n",
    "### 8- What does Feedforward and Backpropagation mean?\n",
    "- During the training phase, the network goes through a process called feedforward, where input data is passed through the layers to produce an output.\n",
    "- The output is compared to the actual target, and the network adjusts its weights using a process called backpropagation to minimize the difference between the predicted and actual output.\n",
    "\n",
    "<div>\n",
    "<img src=\"images/feed_back.png\" width=\"500\"/>\n",
    "</div>"
   ]
  },
  {
   "cell_type": "markdown",
   "id": "0791aa08",
   "metadata": {},
   "source": [
    "### What does Image augmentation mean?\n",
    "- An efficacious Technique when we do not have enough amount of data to train a DL model.\n",
    "- Consists on producing similar but different training examples via :\n",
    "    - Resizing (various scale and ratios)\n",
    "    - Cropping and flipping\n",
    "    - Changing color and brightness\n",
    "    - etc."
   ]
  },
  {
   "cell_type": "markdown",
   "id": "e26c1aee",
   "metadata": {},
   "source": [
    "### What is early stopping ?\n",
    "- A kind of cross-validation strategy when one part of the training set is used as validation set. \n",
    "- If the evaluated performance metric on validation set (unseen data) get worse, the training of the model is immediatly stopped. \n",
    "- The validation is performed on subset of unseen data from input data after each iteration\n",
    "### What is redularization in dl \n",
    "- method that makes slight modification to the learning algorithm such the model generalizes better this in turn to improve the performance on unseen data\n",
    "\n",
    "### What is Data Augmentation in Deep Learning?"
   ]
  },
  {
   "cell_type": "markdown",
   "id": "206c86fe",
   "metadata": {},
   "source": [
    "### What is a model convergence \n",
    "- A state reached during the training of a model when the loss changes very little between each iteration"
   ]
  },
  {
   "cell_type": "markdown",
   "id": "020cc066",
   "metadata": {},
   "source": [
    "### What is Vanishing Gradient?\n",
    "### Explain two ways to deal with the vanishing gradient problem in a deep neural network.\n",
    "### What is Exploding Gradient?\n",
    "### Which strategy that does prevent a model from overfitting to the training data?\n",
    "- Dropout\n",
    "- Data augmentation\n",
    "- Early stopping\n",
    "\n",
    "### What is the need to add randomness in the weight initialization process?\n",
    "### How can you train hyperparameters in a neural network?\n"
   ]
  },
  {
   "cell_type": "markdown",
   "id": "45f4861b",
   "metadata": {},
   "source": [
    "\n",
    "\n",
    "### How to mitigate overfitting in NN?\n",
    "\n",
    "### What Is Gradient Descent?\n",
    "### What Is the Difference Between Batch Gradient Descent and Stochastic Gradient Descent?\n",
    "### What are the reasons for mini-batch gradient being so useful?\n",
    "### What Is Dropout and Batch Normalization?\n",
    "### What is Overfitting and Underfitting, and How to Combat Them?\n",
    "### What are weights and how are Weights Initialized in a Network?\n",
    "### Can we use bagging and boosting with "
   ]
  },
  {
   "cell_type": "markdown",
   "id": "1c2f131d",
   "metadata": {},
   "source": [
    "### Q- What is tranfert learning? \n",
    "- Called also fine-tuning\n",
    "- Based on using a pre-trained network with adjusting one or more layers. \n",
    "- Has four steps:\n",
    "    - Pre-train a base network on the source dataset\n",
    "    - Create a target neural network architecture and copy trained parameters\n",
    "    - create and random initialize the output layer ==>output layers with different neurons means different classes.\n",
    "    - Train from scratch and fine tune\n",
    " How to train and or fine-tune with strong regularization:\n",
    "     - Smaller learning rate\n",
    "     - fewer epochs ==> for hyper-parameter\n",
    " - If the model is trained over complex dataset (source) then TL over simple dataset ==> high performance\n",
    " \n",
    "### Q- How to use a pre-trained model?\n",
    "Two options :\n",
    "- Option 1: if source dataset like target dataset==> use a fixed pre-trained model (no training is needed)\n",
    "- Option 2: if source dataset is different than target dataset ==> training from scratch, freezing the other pre-trained feature layers. \n",
    "\n",
    "\n",
    "### What do you understand by transfer learning? Name a few commonly used transfer learning models.\n",
    "Some of the popular transfer learning models are:\n",
    "- VGG-16\n",
    "- BERT\n",
    "- GTP-3\n",
    "- Inception V3\n",
    "- XCeption"
   ]
  },
  {
   "cell_type": "markdown",
   "id": "500d643f",
   "metadata": {},
   "source": [
    "## Part 3:  Advanced neural network architectures.\n",
    "### Recurrent Neural Network (RNN) \n",
    "### What Is the Difference Between a Feedforward Neural Network and Recurrent Neural Network?\n",
    "### What Are the Applications of a Recurrent Neural Network (RNN)?\n",
    "\n",
    "\n",
    "\n",
    "### Convolutional neural network (CNN)\n",
    "### What is Pooling on CNN, and How Does It Work?\n",
    "### What is LSTM Network and how it Work?\n",
    "### What are the Different Layers on CNN?\n",
    "### Why is a convolutional neural network preferred over a dense neural network for an image classification task?\n",
    "\n",
    "\n",
    "\n",
    "### 2- What is Convolutional Neural Networks : CNNs? \n",
    "### 3- What is Recurrent Neural Networks : RNNs? "
   ]
  },
  {
   "cell_type": "markdown",
   "id": "a07aa373",
   "metadata": {},
   "source": [
    "### Part 4: Generative Adversarial Network\n",
    "### Explain a Computational Graph.\n",
    "### Explain Generative Adversarial Network."
   ]
  },
  {
   "cell_type": "markdown",
   "id": "9f37e96b",
   "metadata": {},
   "source": [
    "\n",
    "\n",
    "\n",
    "\n",
    "\n",
    "\n",
    "\n",
    "\n",
    "\n",
    "\n",
    "\n",
    "\n",
    "\n",
    "\n",
    "\n"
   ]
  },
  {
   "cell_type": "code",
   "execution_count": null,
   "id": "7f756a7f",
   "metadata": {},
   "outputs": [],
   "source": []
  },
  {
   "cell_type": "code",
   "execution_count": null,
   "id": "d54fb741",
   "metadata": {},
   "outputs": [],
   "source": []
  }
 ],
 "metadata": {
  "kernelspec": {
   "display_name": "Python 3 (ipykernel)",
   "language": "python",
   "name": "python3"
  },
  "language_info": {
   "codemirror_mode": {
    "name": "ipython",
    "version": 3
   },
   "file_extension": ".py",
   "mimetype": "text/x-python",
   "name": "python",
   "nbconvert_exporter": "python",
   "pygments_lexer": "ipython3",
   "version": "3.9.17"
  }
 },
 "nbformat": 4,
 "nbformat_minor": 5
}
