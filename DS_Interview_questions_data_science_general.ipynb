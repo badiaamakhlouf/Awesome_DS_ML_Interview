{
 "cells": [
  {
   "cell_type": "markdown",
   "id": "4a6ed7f0",
   "metadata": {},
   "source": [
    "#  Data Science Interview questions\n",
    "## Part 0 : General questions regarding Data Science\n",
    "\n",
    "This Jupyter notebook is a concise yet comprehensive reference for data science enthusiasts and interview preparation. It encompasses a wide array of questions related to both general data science principles and specific project-related inquiries. For a deeper dive into the details, additional notebooks in the repository provide more comprehensive insights. Whether you're looking to strengthen your foundational knowledge or preparing for data science interviews, these questions offer a valuable reference point. Check out the other notebooks in the repository for more in-depth exploration and a thorough understanding of various data science and machine learning concepts."
   ]
  },
  {
   "cell_type": "markdown",
   "id": "fe84b741",
   "metadata": {},
   "source": [
    "### 1- What is Data Science ? "
   ]
  },
  {
   "cell_type": "markdown",
   "id": "e917cad5",
   "metadata": {},
   "source": [
    "### 2- What is data science life cycle? \n",
    "The data science life cycle is a systematic and iterative process that data scientists follow to extract meaningful insights from data and solve real-world problems. It typically includes the following key stages:\n",
    "\n",
    "- 1. Problem Definition : Objective and scope definition \n",
    "- 2. Data Collection :  identify data sources + data extraction \n",
    "- 3. Data Cleaning and Preparation : cleaning + transformation (NaN +Categorical)\n",
    "- 4. Exploratory Data Analysis (EDA) : statistical analysis + visual exploration\n",
    "- 5. Feature Engineering : variable selection +transformation (log, normalization)\n",
    "- 6. Modeling : model selection + training + validation \n",
    "- 7. Evaluation : model evaluation + iterative improvement \n",
    "- 8. Deployment : integration + monitoring \n",
    "- 9. Communication : results interpretation + documentation\n",
    "- 10. Feedback and Iteration : feedback incorporation + iterative refinement\n",
    "\n",
    "This life cycle is not strictly linear and often involves iteration and refinement at various stages. Data scientists may go back and forth between stages based on insights gained, challenges encountered, or evolving project requirements."
   ]
  },
  {
   "cell_type": "code",
   "execution_count": null,
   "id": "553c94c5",
   "metadata": {},
   "outputs": [],
   "source": [
    "What are the fields of ds\n",
    "\n",
    "DS versus Data analytics\n",
    "\n",
    "which language is best for text analytics : python and r why?\n",
    "    \n"
   ]
  },
  {
   "cell_type": "code",
   "execution_count": null,
   "id": "b08b7c2b",
   "metadata": {},
   "outputs": [],
   "source": []
  },
  {
   "cell_type": "code",
   "execution_count": null,
   "id": "3893732a",
   "metadata": {},
   "outputs": [],
   "source": []
  },
  {
   "cell_type": "code",
   "execution_count": null,
   "id": "2b9d0c59",
   "metadata": {},
   "outputs": [],
   "source": []
  },
  {
   "cell_type": "code",
   "execution_count": null,
   "id": "e5ccd2b0",
   "metadata": {},
   "outputs": [],
   "source": []
  },
  {
   "cell_type": "code",
   "execution_count": null,
   "id": "311a7657",
   "metadata": {},
   "outputs": [],
   "source": []
  },
  {
   "cell_type": "code",
   "execution_count": null,
   "id": "2ca6e6ce",
   "metadata": {},
   "outputs": [],
   "source": []
  },
  {
   "cell_type": "markdown",
   "id": "517d91e6",
   "metadata": {},
   "source": [
    "### 2- What are different data structures in data science ?\n",
    "\n",
    "Various data structures are used to organize and store data efficiently in DS.\n",
    "\n",
    "Here are some commonly used data structures: Lists, Arrays, Tuples, Sets, Dictionaries, DataFrames, Series, Graphs, Matrices, Sparse Data Structures, Queues, Stacks\n",
    "- **Lists:** A collection of elements, ordered and mutable.\n",
    "- **Arrays:** Similar to lists, but more efficient for numerical operations (used by numpy).\n",
    "- **Tuples:** Similar to lists but immutable (cannot be modified after creation).\n",
    "- **Sets:** An unordered collection of unique elements. Useful for eliminating duplicate values.\n",
    "- **Dictionaries:** A collection of key-value pairs. Efficient for retrieving values based on keys.\n",
    "- **DataFrames:** A two-dimensional labeled data structure. Found in libraries like Pandas, commonly used for working with structured data.\n",
    "- **Series:** A one-dimensional labeled array. Also found in Pandas, often used for time-series data.\n",
    "- **Graphs:** Represented as nodes and edges. Used for modeling relationships between entities.\n",
    "- **Matrices:** Two-dimensional arrays with rows and columns. Frequently used in linear algebra and numerical computing.\n",
    "- **Sparse Data Structures:** Specifically designed for datasets with a large number of zero or missing values. (Sparse matrices)\n",
    "- **Queues:** Follows the First In First Out (FIFO) principle. Useful for implementing algorithms.\n",
    "- **Stacks:** Follows the Last In First Out (LIFO) principle. Used in algorithms where items are processed in a reverse order.\n",
    "\n",
    "The choice of data structure depends on the nature of the data, the operations you need to perform, and the specific requirements of the task or algorithm. Libraries like NumPy, Pandas, and networkx in Python provide powerful tools for working with these data structures in a data science context."
   ]
  },
  {
   "cell_type": "markdown",
   "id": "219ffd6c",
   "metadata": {},
   "source": [
    "#### 2.1- Lists versus Sets : \n",
    "- Lists: ordered + mutable + allow duplicates + created using square brackets []\n",
    "- Sets: unordered + mutable (You can add or remove elements, but you cannot change their order.) + no duplicates + created using curly braces {}, but an empty set must be created using the set() constructor."
   ]
  },
  {
   "cell_type": "markdown",
   "id": "cd8d881f",
   "metadata": {},
   "source": [
    "### 3- List all libraries in python that are used for data science and scientifc computation?\n",
    "\n",
    "Python offers a rich ecosystem of libraries for data analytics and scientific computation. Here is a list of some prominent ones: \n",
    "\n",
    "- NumPy, Pandas, Matplotlib, Seaborn, SciPy, Scikit-learn, Statsmodels, SymPy, NLTK (Natural Language Toolkit), Beautiful Soup, Plotly, TensorFlow, PyTorch, Keras, Bokeh, Dask, Scrapy.\n",
    "\n",
    "### 4- List some libraries in python that are used for data visualization in python ? \n",
    "\n",
    "- Matplotlib, Seaborn, Plotly, ggplot, Dash, Geopandas, Yellowbrick.\n",
    "\n",
    "### 5- List some libraries in python that are used for machine learning in python ? \n",
    "\n",
    "Certainly! Here are some popular libraries in Python used for machine learning:\n",
    "\n",
    "- Scikit-learn, TensorFlow, PyTorch, Keras, XGBoost, LightGBM, CatBoost, Pandas, Numpy, NLTK (Natural Language Toolkit), OpenCV (computer vision), SciPy, Statsmodels, Caret (Classification and Regression Training).\n",
    "\n",
    "### 6- List some libraries in python that are used for deep learning in python ? \n",
    "\n",
    "- TensorFlow, PyTorch, Keras, Caffe, Theano, Torch, Fastai"
   ]
  },
  {
   "cell_type": "code",
   "execution_count": null,
   "id": "7e0b1604",
   "metadata": {},
   "outputs": [],
   "source": [
    "#### What is Natural language processing \n"
   ]
  },
  {
   "cell_type": "code",
   "execution_count": null,
   "id": "670a0c5d",
   "metadata": {},
   "outputs": [],
   "source": []
  },
  {
   "cell_type": "code",
   "execution_count": null,
   "id": "77018f36",
   "metadata": {},
   "outputs": [],
   "source": []
  },
  {
   "cell_type": "code",
   "execution_count": null,
   "id": "a15b0c5c",
   "metadata": {},
   "outputs": [],
   "source": []
  },
  {
   "cell_type": "code",
   "execution_count": null,
   "id": "b68347a4",
   "metadata": {},
   "outputs": [],
   "source": []
  },
  {
   "cell_type": "code",
   "execution_count": null,
   "id": "aecd58d0",
   "metadata": {},
   "outputs": [],
   "source": []
  },
  {
   "cell_type": "code",
   "execution_count": null,
   "id": "7a118376",
   "metadata": {},
   "outputs": [],
   "source": []
  },
  {
   "cell_type": "code",
   "execution_count": null,
   "id": "0925e47f",
   "metadata": {},
   "outputs": [],
   "source": []
  },
  {
   "cell_type": "code",
   "execution_count": null,
   "id": "f2a1b973",
   "metadata": {},
   "outputs": [],
   "source": []
  },
  {
   "cell_type": "code",
   "execution_count": null,
   "id": "e8647cde",
   "metadata": {},
   "outputs": [],
   "source": []
  },
  {
   "cell_type": "code",
   "execution_count": null,
   "id": "8e0f9f16",
   "metadata": {},
   "outputs": [],
   "source": []
  },
  {
   "cell_type": "code",
   "execution_count": null,
   "id": "c6be0545",
   "metadata": {},
   "outputs": [],
   "source": []
  },
  {
   "cell_type": "code",
   "execution_count": null,
   "id": "08bae2b1",
   "metadata": {},
   "outputs": [],
   "source": []
  },
  {
   "cell_type": "code",
   "execution_count": null,
   "id": "3c2f3871",
   "metadata": {},
   "outputs": [],
   "source": []
  },
  {
   "cell_type": "code",
   "execution_count": null,
   "id": "4e421c21",
   "metadata": {},
   "outputs": [],
   "source": []
  },
  {
   "cell_type": "code",
   "execution_count": null,
   "id": "0a3ed2cb",
   "metadata": {},
   "outputs": [],
   "source": []
  },
  {
   "cell_type": "code",
   "execution_count": null,
   "id": "90b8d8d4",
   "metadata": {},
   "outputs": [],
   "source": []
  },
  {
   "cell_type": "code",
   "execution_count": null,
   "id": "14aa83dd",
   "metadata": {},
   "outputs": [],
   "source": []
  },
  {
   "cell_type": "code",
   "execution_count": null,
   "id": "b8eaa7ca",
   "metadata": {},
   "outputs": [],
   "source": []
  },
  {
   "cell_type": "code",
   "execution_count": null,
   "id": "0f8ecc87",
   "metadata": {},
   "outputs": [],
   "source": []
  },
  {
   "cell_type": "code",
   "execution_count": null,
   "id": "d7d92a33",
   "metadata": {},
   "outputs": [],
   "source": []
  },
  {
   "cell_type": "code",
   "execution_count": null,
   "id": "96f86e1e",
   "metadata": {},
   "outputs": [],
   "source": []
  }
 ],
 "metadata": {
  "kernelspec": {
   "display_name": "Python 3 (ipykernel)",
   "language": "python",
   "name": "python3"
  },
  "language_info": {
   "codemirror_mode": {
    "name": "ipython",
    "version": 3
   },
   "file_extension": ".py",
   "mimetype": "text/x-python",
   "name": "python",
   "nbconvert_exporter": "python",
   "pygments_lexer": "ipython3",
   "version": "3.9.17"
  }
 },
 "nbformat": 4,
 "nbformat_minor": 5
}
