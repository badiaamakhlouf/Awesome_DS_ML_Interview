{
 "cells": [
  {
   "cell_type": "markdown",
   "id": "a84d4ce0",
   "metadata": {},
   "source": [
    "# Data Scientist Interview Questions\n",
    "## Part 3 : ML : Regression Analysis\n",
    "\n",
    "This Jupyter notebook serves as a comprehensive resource for machine learning enthusiasts and those preparing for technical interviews in the fields of data science and machine learning. It encompasses essential information and detailed insights into regression analysis, making it a valuable reference for interview preparation. Whether strengthening foundational knowledge or delving into specific regression concepts, this notebook provides a concise yet thorough guide. For those aspiring to excel in data science interviews, exploring this resource offers a valuable edge in understanding regression analysis within the machine learning domain."
   ]
  },
  {
   "cell_type": "markdown",
   "id": "0890b6cb",
   "metadata": {},
   "source": [
    "## 0- What does regression analysis mean?\n",
    "- Regression analysis is a statistical technique used in data science and statistics to model the relationship between a dependent variable and one or more independent variables.\n",
    "- The primary goal of regression analysis is to understand the nature and strength of the relationship between variables and to make predictions based on that understanding.\n",
    "- It helps answering questions such as:\n",
    "    - How does a change in one variable (independent variable) impact another variable (dependent variable)?\n",
    "    - Can we predict the value of the dependent variable based on the values of one or more independent variables?\n",
    "- Resgression formula: $Y=W \\times X + b$\n",
    "- Where : \n",
    "    - Y: dependent variable (response variable): the variable that we want to predict or explain.\n",
    "    - X: independent variable(s) (predictor variable(s)): the variable(s) used to predict or explain the variability in the dependent variable.\n",
    "    - W: regression coefficients: these are the parameters in the regression equation that indicate the strength and direction of the relationship between variables.\n",
    "    - b:bias term which represents patterns that do not pass through the origin\n",
    "- Residuals: \n",
    "    - Differences between the observed (y(n)) and predicted values ($y\\hat(n)$), representing the model's error.\n",
    "    - Formula : $e(n)=y(n)-y\\hat(n)$\n",
    "\n",
    "- It is widely used in various fields, including economics, finance, biology, psychology, and machine learning.\n",
    "- It provides valuable insights into the relationships between variables and is a fundamental tool for making predictions and informed decisions based on data."
   ]
  },
  {
   "cell_type": "markdown",
   "id": "fcd603af",
   "metadata": {},
   "source": [
    "## 1- Examples of well-known machine learning algorithms used to solve regression problems\n",
    "\n",
    "Here are some well-known machine learning algorithms commonly used to solve regression problems:\n",
    "\n",
    "- Linear Regression\n",
    "- Lasso Regression\n",
    "- Ridge Regression\n",
    "- Decision Trees\n",
    "- Random Forest\n",
    "- Gradient Boosting Algorithms (e.g., XGBoost, LightGBM)\n",
    "- Support Vector Machines (SVM)\n",
    "- K-Nearest Neighbors (KNN)\n",
    "- Bayesian Regression\n",
    "- Neural Networks (Deep Learning):"
   ]
  },
  {
   "cell_type": "markdown",
   "id": "8f1d20c1",
   "metadata": {},
   "source": [
    "## 2- What are the performance metrics for Regression Analysis? \n",
    "- Several performance metrics are commonly used to evaluate the accuracy and goodness of fit of regression models.\n",
    "- Here are some common performance metrics for regression:\n",
    "    - **Mean Absolute Error (MAE)**\n",
    "    - **Mean Squared Error (MSE)**\n",
    "    - **Root Mean Squared Error (RMSE)**\n",
    "    - **Mean Absolute Percentage Error (MAPE)**\n",
    "    - **R-squared (R2)**\n",
    "- The choice of metric is related to several goals and characteristics of the regression problem to solve.\n",
    "- It is possible to use one of the above metrics next to accuracy, precision, and the ability to explain variance.\n",
    "- Considering multiple metrics is better solution to gain a comprehensive understanding about the model performance.\n",
    "- Almost, all regression tasks uses error to evaluate the model: if error is high ==> we need either to change the model or retrain it with more data.\n",
    "\n",
    "### 2. 1- What is Mean Absolute Error (MAE) ? \n",
    "\n",
    "- As its name indicates, it represents the average absolute difference between the predicted values and the actual values.\n",
    "- **Formula :** $$MAE = {1\\over n} {\\sum \\limits _{i=1} ^{n}|y_{i}-\\hat{y}_{i}|}$$\n",
    "\n",
    "### 2. 2- What is Mean Squared Error (MSE) ?\n",
    "- It represents the average squared difference between the predicted values and the actual values.\n",
    "- It penalizes larger errors more heavily than MAE.\n",
    "- **Formula:** $$MSE = {1\\over n} {\\sum \\limits _{i=1} ^{n}(y_{i}-\\hat{y}_{i})^2}$$ \n",
    "\n",
    "### 2. 3- What is Root Mean Squared Error (RMSE) ? \n",
    "- It represents the square root of the MSE\n",
    "- It provides a measure of the average magnitude of errors in the same units as the target variable.\n",
    "- **Formula:** $$RMSE= {\\sqrt MSE} $$"
   ]
  },
  {
   "cell_type": "markdown",
   "id": "72c258c6",
   "metadata": {},
   "source": [
    "### 2. 4- What is Mean Absolute Percentage Error (MAPE) ? \n",
    "- It calculates the average percentage difference between the predicted and actual values.\n",
    "- It is a relative error metric\n",
    "- **Formula:** $$MAPE={1\\over n} {\\sum \\limits _{i=1} ^{n}({|y_{i}-\\hat{y}_{i}| \\over |y_{i}|})} \\times 100$$\n",
    "### 2. 5- What is R-squared (R2)\n",
    "- It measures the proportion of the variance in the target variable that is predictable from the independent variables.\n",
    "- It represents the correlation between true value and predicted value\n",
    "- **Formula:** $$ R^2= 1 - {MSE \\over Var(y) }$$\n",
    "- $$ R^2= 1- {{\\sum \\limits _{i=1} ^{n}(y_{i}-\\hat{y}_{i})^2} \\over {\\sum \\limits _{i=1} ^{n}(y_{i}-\\overline{y})^2}}$$\n",
    "- $\\overline{y}$: is the mean of the target variable\n",
    "- It is possible to use **Adjusted R-squared**, which provides a penalized version of R-squared that adjusts the model complexity\n"
   ]
  },
  {
   "cell_type": "markdown",
   "id": "a99a1d0d",
   "metadata": {},
   "source": [
    "## 3- What does Linear Regression mean?\n",
    "\n",
    "###  What assumption you need to take into consideration before starting linear regression ?\n",
    "- Linear relationship\n",
    "- No orlittle multicolinearity\n",
    "- Multivariate normality \n",
    "- etc."
   ]
  },
  {
   "cell_type": "markdown",
   "id": "22d41ed5",
   "metadata": {},
   "source": [
    "## 4- How Decision Trees are used for Regression analysis ?\n",
    "### What does decision tree means ? \n",
    "- decision tree can be used for :\n",
    "    - Classification\n",
    "    - Regression \n",
    "- We build a tree with datasets broken up into smaller subsets while developing the decision tree\n",
    "- It can handle both categorical and numerical data \n",
    "\n",
    "### What does prunning decision tree means?\n",
    "- Pruning is a technique in ML that reduces the size of DT ==> to reduce the complexity of final classifier \n",
    "- Pruning helps improve the predictive accuracy by reducing overfitting \n",
    "- Pruning can occur in :\n",
    "    - Top-down fashion \n",
    "    - Bottom-down fashion\n",
    "- Top-down fashion : it will traverse nodes and train subsets starting at the root\n",
    "- Bottom-up fashion : it will begin at the leaf nodes \n",
    "### What are the popular pruning algorithms?\n",
    "- Reduced error pruning :\n",
    "    - starts with leaves, each node is replaced with its most popular class\n",
    "    - if the prediction accuracy is not affected the change is kept \n",
    "    - There is an advantage of simplicity and speed \n",
    "### What are the different menthods to split a tree in decision tree method?\n",
    "Here is the list of methods :\n",
    "- Variance :\n",
    "    - Splitting using the variance\n",
    "    - Prefered when the target variable is continous\n",
    "    - Variance is ......\n",
    "- Information gain :\n",
    "    - Splitting the nodes using information gain\n",
    "    - Prefered when the target variable is categorical\n",
    "    - Formula : IG=1- Entropy \n",
    "    - $Entropy =-{\\sum p_{i} log_{2}p_{i}}$\n",
    "- Gini Impurity :\n",
    "    - Splitting the nodes of a decision tree using Gini impurity \n",
    "    - Prefered When the target variable is categorical\n",
    "    "
   ]
  },
  {
   "cell_type": "markdown",
   "id": "3010c300",
   "metadata": {},
   "source": [
    "## 5- What does Random Forest mean and how it works?"
   ]
  },
  {
   "cell_type": "markdown",
   "id": "96ed2b11",
   "metadata": {},
   "source": [
    "## 6- What does Bayesian Regression mean and how it works?"
   ]
  },
  {
   "cell_type": "markdown",
   "id": "ac3d58d4",
   "metadata": {},
   "source": [
    "## 7- How Gradient Boosting Algorithms (e.g., XGBoost, LightGBM) are used to resolve regression problem?"
   ]
  },
  {
   "cell_type": "markdown",
   "id": "c3aa9a0d",
   "metadata": {},
   "source": [
    "## 8- How can we use Neural Network to resolve regression problem?"
   ]
  },
  {
   "cell_type": "markdown",
   "id": "4031a76f",
   "metadata": {},
   "source": [
    "## 9- How determine whether a predictive model is underfitting or overfitting the training data?"
   ]
  },
  {
   "cell_type": "markdown",
   "id": "9f777ce9",
   "metadata": {},
   "source": [
    "## 10-What is Lasso Regression and how it works?"
   ]
  },
  {
   "cell_type": "markdown",
   "id": "980d278f",
   "metadata": {},
   "source": [
    "## 11- What is Ridge Regression and how it works?"
   ]
  },
  {
   "cell_type": "markdown",
   "id": "cc7818ed",
   "metadata": {},
   "source": [
    "## 12-"
   ]
  },
  {
   "cell_type": "code",
   "execution_count": null,
   "id": "2822e509",
   "metadata": {},
   "outputs": [],
   "source": []
  },
  {
   "cell_type": "code",
   "execution_count": null,
   "id": "11af465b",
   "metadata": {},
   "outputs": [],
   "source": []
  },
  {
   "cell_type": "code",
   "execution_count": null,
   "id": "73509cdd",
   "metadata": {},
   "outputs": [],
   "source": []
  },
  {
   "cell_type": "code",
   "execution_count": null,
   "id": "3cad2b26",
   "metadata": {},
   "outputs": [],
   "source": []
  },
  {
   "cell_type": "code",
   "execution_count": null,
   "id": "c67b9e34",
   "metadata": {},
   "outputs": [],
   "source": []
  }
 ],
 "metadata": {
  "kernelspec": {
   "display_name": "Python 3 (ipykernel)",
   "language": "python",
   "name": "python3"
  },
  "language_info": {
   "codemirror_mode": {
    "name": "ipython",
    "version": 3
   },
   "file_extension": ".py",
   "mimetype": "text/x-python",
   "name": "python",
   "nbconvert_exporter": "python",
   "pygments_lexer": "ipython3",
   "version": "3.9.17"
  }
 },
 "nbformat": 4,
 "nbformat_minor": 5
}
