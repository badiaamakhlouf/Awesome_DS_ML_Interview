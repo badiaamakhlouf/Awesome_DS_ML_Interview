{
 "cells": [
  {
   "cell_type": "markdown",
   "id": "808056b9",
   "metadata": {},
   "source": [
    "# Data Scientist Interview Questions\n",
    "## Part 3 : ML : Regression Analysis\n",
    "\n",
    "This Jupyter notebook serves as a comprehensive resource for machine learning enthusiasts and those preparing for technical interviews in the fields of data science and machine learning. It encompasses essential information and detailed insights into regression analysis, making it a valuable reference for interview preparation. Whether strengthening foundational knowledge or delving into specific regression concepts, this notebook provides a concise yet thorough guide. For those aspiring to excel in data science interviews, exploring this resource offers a valuable edge in understanding regression analysis within the machine learning domain."
   ]
  },
  {
   "cell_type": "markdown",
   "id": "ec4fa77c",
   "metadata": {},
   "source": [
    "### 0- What does regression analysis mean?\n",
    "- Regression analysis is a statistical technique used in data science and statistics to model the relationship between a dependent variable and one or more independent variables.\n",
    "- The primary goal of regression analysis is to understand the nature and strength of the relationship between variables and to make predictions based on that understanding.\n",
    "- It helps answering questions such as:\n",
    "    - How does a change in one variable (independent variable) impact another variable (dependent variable)?\n",
    "    - Can we predict the value of the dependent variable based on the values of one or more independent variables?\n",
    "- Resgression formula: $Y=W \\times X + b$\n",
    "- Where : \n",
    "    - Y: dependent variable (response variable): the variable that we want to predict or explain.\n",
    "    - X: independent variable(s) (predictor variable(s)): the variable(s) used to predict or explain the variability in the dependent variable.\n",
    "    - W: regression coefficients: these are the parameters in the regression equation that indicate the strength and direction of the relationship between variables.\n",
    "    - b:bias term \n",
    "- Residuals: \n",
    "    - Differences between the observed (y(n)) and predicted values ($y\\hat(n)$), representing the model's error.\n",
    "    - Formula : $e(n)=y(n)-y\\hat(n)$\n",
    "\n",
    "How does a change in one variable (independent variable) impact another variable (dependent variable)?\n",
    "Can we predict the value of the dependent variable based on the values of one or more independent variables?"
   ]
  },
  {
   "cell_type": "markdown",
   "id": "16942f8b",
   "metadata": {},
   "source": [
    "### 3- Examples of well-known machine learning algorithms used to solve regression problems\n",
    "\n",
    "Certainly! Here are some well-known machine learning algorithms commonly used to solve regression problems:\n",
    "\n",
    "- Linear Regression\n",
    "- Lasso Regression\n",
    "- Ridge Regression\n",
    "- Decision Trees\n",
    "- Random Forest\n",
    "- Gradient Boosting Algorithms (e.g., XGBoost, LightGBM)\n",
    "- Support Vector Machines (SVM)\n",
    "- K-Nearest Neighbors (KNN)\n",
    "- Bayesian Regression\n",
    "- Neural Networks (Deep Learning):"
   ]
  },
  {
   "cell_type": "markdown",
   "id": "d9c25467",
   "metadata": {},
   "source": [
    "### 15- What are the performance metrics for Regression? \n",
    "- Several performance metrics are commonly used to evaluate the accuracy and goodness of fit of regression models.\n",
    "- Here are some common performance metrics for regression:\n",
    "    - **Mean Absolute Error (MAE)**\n",
    "    - **Mean Squared Error (MSE)**\n",
    "    - **Root Mean Squared Error (RMSE)**\n",
    "    - **Mean Absolute Percentage Error (MAPE)**\n",
    "    - **R-squared (R2)**\n",
    "- The choice of metric is related to several goals and characteristics of the regression problem to solve.\n",
    "- It is possible to use one of the above metrics next to accuracy, precision, and the ability to explain variance.\n",
    "- Considering multiple metrics is better solution to gain a comprehensive understanding about the model performance.\n",
    "- Almost, all regression tasks uses error to evaluate the model: if error is high ==> we need either to change the model or retrain it with more data.\n",
    "\n",
    "#### 15. 1- What is Mean Absolute Error (MAE) ? \n",
    "\n",
    "- As its name indicates, it represents the average absolute difference between the predicted values and the actual values.\n",
    "- **Formula :** $$MAE = {1\\over n} {\\sum \\limits _{i=1} ^{n}|y_{i}-\\hat{y}_{i}|}$$\n",
    "\n",
    "#### 15. 2- What is Mean Squared Error (MSE) ?\n",
    "- It represents the average squared difference between the predicted values and the actual values.\n",
    "- It penalizes larger errors more heavily than MAE.\n",
    "- **Formula:** $$MSE = {1\\over n} {\\sum \\limits _{i=1} ^{n}(y_{i}-\\hat{y}_{i})^2}$$ \n",
    "#### 15. 3- What is Root Mean Squared Error (RMSE) ? \n",
    "- It represents the square root of the MSE\n",
    "- It provides a measure of the average magnitude of errors in the same units as the target variable.\n",
    "- **Formula:** $$RMSE= {\\sqrt MSE} $$"
   ]
  },
  {
   "cell_type": "markdown",
   "id": "18fdc49a",
   "metadata": {},
   "source": [
    "#### 15. 4- What is Mean Absolute Percentage Error (MAPE) ? \n",
    "- It calculates the average percentage difference between the predicted and actual values.\n",
    "- It is a relative error metric\n",
    "- **Formula:** $$MAPE={1\\over n} {\\sum \\limits _{i=1} ^{n}({|y_{i}-\\hat{y}_{i}| \\over |y_{i}|})} \\times 100$$\n",
    "#### 15. 5- What is R-squared (R2)\n",
    "- It measures the proportion of the variance in the target variable that is predictable from the independent variables.\n",
    "- It represents the correlation between true value and predicted value\n",
    "- **Formula:** $$ R^2= 1 - {MSE \\over Var(y) }$$\n",
    "- $$ R^2= 1- {{\\sum \\limits _{i=1} ^{n}(y_{i}-\\hat{y}_{i})^2} \\over {\\sum \\limits _{i=1} ^{n}(y_{i}-\\overline{y})^2}}$$\n",
    "- $\\overline{y}$: is the mean of the target variable\n",
    "- It is possible to use **Adjusted R-squared**, which provides a penalized version of R-squared that adjusts the model complexity\n",
    "#### a. Correlation :\n",
    "- It is a measure of linear relationship between two quantitative variables. \n",
    "- It belongs to [0,1]"
   ]
  },
  {
   "cell_type": "code",
   "execution_count": null,
   "id": "9844f53e",
   "metadata": {},
   "outputs": [],
   "source": []
  },
  {
   "cell_type": "code",
   "execution_count": null,
   "id": "4ba0b528",
   "metadata": {},
   "outputs": [],
   "source": []
  },
  {
   "cell_type": "code",
   "execution_count": null,
   "id": "c2c9daee",
   "metadata": {},
   "outputs": [],
   "source": []
  },
  {
   "cell_type": "code",
   "execution_count": null,
   "id": "2122ebb2",
   "metadata": {},
   "outputs": [],
   "source": []
  },
  {
   "cell_type": "code",
   "execution_count": null,
   "id": "8ce057d7",
   "metadata": {},
   "outputs": [],
   "source": []
  },
  {
   "cell_type": "code",
   "execution_count": null,
   "id": "2f9834ea",
   "metadata": {},
   "outputs": [],
   "source": []
  },
  {
   "cell_type": "code",
   "execution_count": null,
   "id": "067b81fd",
   "metadata": {},
   "outputs": [],
   "source": []
  }
 ],
 "metadata": {
  "kernelspec": {
   "display_name": "Python 3 (ipykernel)",
   "language": "python",
   "name": "python3"
  },
  "language_info": {
   "codemirror_mode": {
    "name": "ipython",
    "version": 3
   },
   "file_extension": ".py",
   "mimetype": "text/x-python",
   "name": "python",
   "nbconvert_exporter": "python",
   "pygments_lexer": "ipython3",
   "version": "3.9.17"
  }
 },
 "nbformat": 4,
 "nbformat_minor": 5
}
