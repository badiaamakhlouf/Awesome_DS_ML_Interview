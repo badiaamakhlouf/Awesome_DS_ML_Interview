{
 "cells": [
  {
   "cell_type": "code",
   "execution_count": null,
   "id": "ed9311a0",
   "metadata": {},
   "outputs": [],
   "source": []
  },
  {
   "cell_type": "code",
   "execution_count": null,
   "id": "03b33d88",
   "metadata": {},
   "outputs": [],
   "source": []
  },
  {
   "cell_type": "code",
   "execution_count": null,
   "id": "b7210de6",
   "metadata": {},
   "outputs": [],
   "source": []
  },
  {
   "cell_type": "code",
   "execution_count": null,
   "id": "8fedc217",
   "metadata": {},
   "outputs": [],
   "source": []
  },
  {
   "cell_type": "code",
   "execution_count": null,
   "id": "9353cd79",
   "metadata": {},
   "outputs": [],
   "source": []
  },
  {
   "cell_type": "code",
   "execution_count": null,
   "id": "f8a9c2cc",
   "metadata": {},
   "outputs": [],
   "source": []
  },
  {
   "cell_type": "markdown",
   "id": "92272371",
   "metadata": {},
   "source": [
    "### 19- What is tranfert learning? \n",
    "- Called also fine-tuning\n",
    "- Based on using a pre-trained network with adjusting one or more layers. \n",
    "- Has four steps:\n",
    "    - Pre-train a base network on the source dataset\n",
    "    - Create a target neural network architecture and copy trained parameters\n",
    "    - create and random initialize the output layer ==>output layers with different neurons means different classes.\n",
    "    - Train from scratch and fine tune\n",
    " How to train and or fine-tune with strong regularization:\n",
    "     - Smaller learning rate\n",
    "     - fewer epochs ==> for hyper-parameter\n",
    " - If the model is trained over complex dataset (source) then TL over simple dataset ==> high performance\n",
    "#### 19. 1- How to use a pre-trained model?\n",
    "Two options :\n",
    "- Option 1: if source dataset like target dataset==> use a fixed pre-trained model (no training is needed)\n",
    "- Option 2: if source dataset is different than target dataset ==> training from scratch, freezing the other pre-trained feature layers. "
   ]
  },
  {
   "cell_type": "code",
   "execution_count": null,
   "id": "cd185dd7",
   "metadata": {},
   "outputs": [],
   "source": []
  },
  {
   "cell_type": "code",
   "execution_count": null,
   "id": "be80059a",
   "metadata": {},
   "outputs": [],
   "source": []
  }
 ],
 "metadata": {
  "kernelspec": {
   "display_name": "Python 3 (ipykernel)",
   "language": "python",
   "name": "python3"
  },
  "language_info": {
   "codemirror_mode": {
    "name": "ipython",
    "version": 3
   },
   "file_extension": ".py",
   "mimetype": "text/x-python",
   "name": "python",
   "nbconvert_exporter": "python",
   "pygments_lexer": "ipython3",
   "version": "3.9.17"
  }
 },
 "nbformat": 4,
 "nbformat_minor": 5
}
